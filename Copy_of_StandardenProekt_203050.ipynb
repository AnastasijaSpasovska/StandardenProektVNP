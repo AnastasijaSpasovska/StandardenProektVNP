{
  "nbformat": 4,
  "nbformat_minor": 0,
  "metadata": {
    "colab": {
      "provenance": []
    },
    "kernelspec": {
      "name": "python3",
      "display_name": "Python 3"
    },
    "language_info": {
      "name": "python"
    }
  },
  "cells": [
    {
      "cell_type": "markdown",
      "source": [
        "Да се најдат податоците за цената на акциите и ESG score на компанијата Nike за изминатите 4 години. Потоа, да се проучат податоците со користење на tsfresh и истите да се објаснат. Да се направи benchmark на најмалку 3 модели за предикција на цена на акциите на компанијата имајќи ги предвид горенаведените податоци."
      ],
      "metadata": {
        "id": "bXdXun1RISRx"
      }
    },
    {
      "cell_type": "code",
      "source": [
        "from google.colab import drive\n",
        "drive.mount('/content/drive')"
      ],
      "metadata": {
        "colab": {
          "base_uri": "https://localhost:8080/"
        },
        "id": "XqtboPMHVDp-",
        "outputId": "dc56bbd7-d3ef-4e68-f522-a4323a79dfde"
      },
      "execution_count": 1,
      "outputs": [
        {
          "output_type": "stream",
          "name": "stdout",
          "text": [
            "Mounted at /content/drive\n"
          ]
        }
      ]
    },
    {
      "cell_type": "code",
      "source": [
        "pip install tsfresh"
      ],
      "metadata": {
        "colab": {
          "base_uri": "https://localhost:8080/"
        },
        "id": "feh5nj3cuE4n",
        "outputId": "c68d8e55-1e31-4484-8755-43a59af4430e"
      },
      "execution_count": 2,
      "outputs": [
        {
          "output_type": "stream",
          "name": "stdout",
          "text": [
            "Collecting tsfresh\n",
            "  Downloading tsfresh-0.20.1-py2.py3-none-any.whl (95 kB)\n",
            "\u001b[?25l     \u001b[90m━━━━━━━━━━━━━━━━━━━━━━━━━━━━━━━━━━━━━━━━\u001b[0m \u001b[32m0.0/95.3 kB\u001b[0m \u001b[31m?\u001b[0m eta \u001b[36m-:--:--\u001b[0m\r\u001b[2K     \u001b[91m━━━━━━━━━━━━━━━━━━━━━━━━━━━━━━━━━━━━━━\u001b[0m\u001b[91m╸\u001b[0m\u001b[90m━\u001b[0m \u001b[32m92.2/95.3 kB\u001b[0m \u001b[31m2.5 MB/s\u001b[0m eta \u001b[36m0:00:01\u001b[0m\r\u001b[2K     \u001b[90m━━━━━━━━━━━━━━━━━━━━━━━━━━━━━━━━━━━━━━━━\u001b[0m \u001b[32m95.3/95.3 kB\u001b[0m \u001b[31m1.9 MB/s\u001b[0m eta \u001b[36m0:00:00\u001b[0m\n",
            "\u001b[?25hRequirement already satisfied: requests>=2.9.1 in /usr/local/lib/python3.10/dist-packages (from tsfresh) (2.31.0)\n",
            "Requirement already satisfied: numpy>=1.15.1 in /usr/local/lib/python3.10/dist-packages (from tsfresh) (1.23.5)\n",
            "Requirement already satisfied: pandas>=0.25.0 in /usr/local/lib/python3.10/dist-packages (from tsfresh) (1.5.3)\n",
            "Requirement already satisfied: scipy>=1.2.0 in /usr/local/lib/python3.10/dist-packages (from tsfresh) (1.10.1)\n",
            "Requirement already satisfied: statsmodels>=0.13 in /usr/local/lib/python3.10/dist-packages (from tsfresh) (0.14.0)\n",
            "Requirement already satisfied: patsy>=0.4.1 in /usr/local/lib/python3.10/dist-packages (from tsfresh) (0.5.3)\n",
            "Requirement already satisfied: scikit-learn>=0.22.0 in /usr/local/lib/python3.10/dist-packages (from tsfresh) (1.2.2)\n",
            "Requirement already satisfied: tqdm>=4.10.0 in /usr/local/lib/python3.10/dist-packages (from tsfresh) (4.66.1)\n",
            "Requirement already satisfied: dask[dataframe]>=2.9.0 in /usr/local/lib/python3.10/dist-packages (from tsfresh) (2023.8.1)\n",
            "Requirement already satisfied: distributed>=2.11.0 in /usr/local/lib/python3.10/dist-packages (from tsfresh) (2023.8.1)\n",
            "Collecting stumpy>=1.7.2 (from tsfresh)\n",
            "  Downloading stumpy-1.12.0-py3-none-any.whl (169 kB)\n",
            "\u001b[2K     \u001b[90m━━━━━━━━━━━━━━━━━━━━━━━━━━━━━━━━━━━━━━━\u001b[0m \u001b[32m169.1/169.1 kB\u001b[0m \u001b[31m6.5 MB/s\u001b[0m eta \u001b[36m0:00:00\u001b[0m\n",
            "\u001b[?25hRequirement already satisfied: cloudpickle in /usr/local/lib/python3.10/dist-packages (from tsfresh) (2.2.1)\n",
            "Requirement already satisfied: click>=8.0 in /usr/local/lib/python3.10/dist-packages (from dask[dataframe]>=2.9.0->tsfresh) (8.1.7)\n",
            "Requirement already satisfied: fsspec>=2021.09.0 in /usr/local/lib/python3.10/dist-packages (from dask[dataframe]>=2.9.0->tsfresh) (2023.6.0)\n",
            "Requirement already satisfied: packaging>=20.0 in /usr/local/lib/python3.10/dist-packages (from dask[dataframe]>=2.9.0->tsfresh) (23.1)\n",
            "Requirement already satisfied: partd>=1.2.0 in /usr/local/lib/python3.10/dist-packages (from dask[dataframe]>=2.9.0->tsfresh) (1.4.0)\n",
            "Requirement already satisfied: pyyaml>=5.3.1 in /usr/local/lib/python3.10/dist-packages (from dask[dataframe]>=2.9.0->tsfresh) (6.0.1)\n",
            "Requirement already satisfied: toolz>=0.10.0 in /usr/local/lib/python3.10/dist-packages (from dask[dataframe]>=2.9.0->tsfresh) (0.12.0)\n",
            "Requirement already satisfied: importlib-metadata>=4.13.0 in /usr/local/lib/python3.10/dist-packages (from dask[dataframe]>=2.9.0->tsfresh) (6.8.0)\n",
            "Requirement already satisfied: jinja2>=2.10.3 in /usr/local/lib/python3.10/dist-packages (from distributed>=2.11.0->tsfresh) (3.1.2)\n",
            "Requirement already satisfied: locket>=1.0.0 in /usr/local/lib/python3.10/dist-packages (from distributed>=2.11.0->tsfresh) (1.0.0)\n",
            "Requirement already satisfied: msgpack>=1.0.0 in /usr/local/lib/python3.10/dist-packages (from distributed>=2.11.0->tsfresh) (1.0.5)\n",
            "Requirement already satisfied: psutil>=5.7.2 in /usr/local/lib/python3.10/dist-packages (from distributed>=2.11.0->tsfresh) (5.9.5)\n",
            "Requirement already satisfied: sortedcontainers>=2.0.5 in /usr/local/lib/python3.10/dist-packages (from distributed>=2.11.0->tsfresh) (2.4.0)\n",
            "Requirement already satisfied: tblib>=1.6.0 in /usr/local/lib/python3.10/dist-packages (from distributed>=2.11.0->tsfresh) (2.0.0)\n",
            "Requirement already satisfied: tornado>=6.0.4 in /usr/local/lib/python3.10/dist-packages (from distributed>=2.11.0->tsfresh) (6.3.2)\n",
            "Requirement already satisfied: urllib3>=1.24.3 in /usr/local/lib/python3.10/dist-packages (from distributed>=2.11.0->tsfresh) (2.0.4)\n",
            "Requirement already satisfied: zict>=2.2.0 in /usr/local/lib/python3.10/dist-packages (from distributed>=2.11.0->tsfresh) (3.0.0)\n",
            "Requirement already satisfied: python-dateutil>=2.8.1 in /usr/local/lib/python3.10/dist-packages (from pandas>=0.25.0->tsfresh) (2.8.2)\n",
            "Requirement already satisfied: pytz>=2020.1 in /usr/local/lib/python3.10/dist-packages (from pandas>=0.25.0->tsfresh) (2023.3)\n",
            "Requirement already satisfied: six in /usr/local/lib/python3.10/dist-packages (from patsy>=0.4.1->tsfresh) (1.16.0)\n",
            "Requirement already satisfied: charset-normalizer<4,>=2 in /usr/local/lib/python3.10/dist-packages (from requests>=2.9.1->tsfresh) (3.2.0)\n",
            "Requirement already satisfied: idna<4,>=2.5 in /usr/local/lib/python3.10/dist-packages (from requests>=2.9.1->tsfresh) (3.4)\n",
            "Requirement already satisfied: certifi>=2017.4.17 in /usr/local/lib/python3.10/dist-packages (from requests>=2.9.1->tsfresh) (2023.7.22)\n",
            "Requirement already satisfied: joblib>=1.1.1 in /usr/local/lib/python3.10/dist-packages (from scikit-learn>=0.22.0->tsfresh) (1.3.2)\n",
            "Requirement already satisfied: threadpoolctl>=2.0.0 in /usr/local/lib/python3.10/dist-packages (from scikit-learn>=0.22.0->tsfresh) (3.2.0)\n",
            "Requirement already satisfied: numba>=0.55.2 in /usr/local/lib/python3.10/dist-packages (from stumpy>=1.7.2->tsfresh) (0.56.4)\n",
            "Requirement already satisfied: zipp>=0.5 in /usr/local/lib/python3.10/dist-packages (from importlib-metadata>=4.13.0->dask[dataframe]>=2.9.0->tsfresh) (3.16.2)\n",
            "Requirement already satisfied: MarkupSafe>=2.0 in /usr/local/lib/python3.10/dist-packages (from jinja2>=2.10.3->distributed>=2.11.0->tsfresh) (2.1.3)\n",
            "Requirement already satisfied: llvmlite<0.40,>=0.39.0dev0 in /usr/local/lib/python3.10/dist-packages (from numba>=0.55.2->stumpy>=1.7.2->tsfresh) (0.39.1)\n",
            "Requirement already satisfied: setuptools in /usr/local/lib/python3.10/dist-packages (from numba>=0.55.2->stumpy>=1.7.2->tsfresh) (67.7.2)\n",
            "Installing collected packages: stumpy, tsfresh\n",
            "Successfully installed stumpy-1.12.0 tsfresh-0.20.1\n"
          ]
        }
      ]
    },
    {
      "cell_type": "code",
      "source": [
        "import pandas as pd\n",
        "\n",
        "stock_data = pd.read_csv('/content/drive/MyDrive/NKE (1).csv')\n",
        "\n",
        "stock_data['Date'] = pd.to_datetime(stock_data['Date'])\n",
        "\n",
        "stock_data['Close'] = stock_data['Close'].interpolate()\n",
        "\n",
        "print(stock_data.head())"
      ],
      "metadata": {
        "colab": {
          "base_uri": "https://localhost:8080/"
        },
        "id": "c_f6Vq7OGdvP",
        "outputId": "719a65e1-9644-4f0c-eb0d-4e50f524ff79"
      },
      "execution_count": 3,
      "outputs": [
        {
          "output_type": "stream",
          "name": "stdout",
          "text": [
            "        Date       Open       High        Low      Close  Adj Close    Volume\n",
            "0 2018-01-02  62.849998  63.490002  62.849998  63.490002  60.058411   6511000\n",
            "1 2018-01-03  63.480000  63.660000  62.759998  63.480000  60.048954   6091100\n",
            "2 2018-01-04  63.400002  63.549999  62.549999  63.439999  60.011108   5780500\n",
            "3 2018-01-05  63.700001  64.300003  63.470001  63.980000  60.521915  11632300\n",
            "4 2018-01-08  64.150002  64.709999  63.980000  64.550003  61.061119  11905700\n"
          ]
        }
      ]
    },
    {
      "cell_type": "code",
      "source": [
        "import matplotlib.pyplot as plt\n",
        "\n",
        "plt.plot(stock_data['Date'], stock_data['Close'])\n",
        "plt.xlabel('Date')\n",
        "plt.ylabel('Close Price')\n",
        "plt.title('Stock Close Price Over Time')\n",
        "plt.show()\n"
      ],
      "metadata": {
        "colab": {
          "base_uri": "https://localhost:8080/",
          "height": 472
        },
        "id": "x6-Yin1OHeMT",
        "outputId": "4ab05ed6-e690-4c01-f416-3d14de3f0e10"
      },
      "execution_count": 6,
      "outputs": [
        {
          "output_type": "display_data",
          "data": {
            "text/plain": [
              "<Figure size 640x480 with 1 Axes>"
            ],
            "image/png": "[encoded data removed]"
          },
          "metadata": {}
        }
      ]
    },
    {
      "cell_type": "code",
      "source": [
        "from tsfresh import extract_features\n",
        "\n",
        "stock_features = extract_features(\n",
        "    stock_data,\n",
        "    column_id=\"Date\",\n",
        "    column_sort=\"Date\",\n",
        "    column_value=\"Close\"\n",
        ")\n",
        "\n",
        "print(stock_features.head())"
      ],
      "metadata": {
        "colab": {
          "base_uri": "https://localhost:8080/"
        },
        "id": "gV6mbpLvH08F",
        "outputId": "7f7a390f-685b-45c4-8a7d-4ad6e0044117"
      },
      "execution_count": 5,
      "outputs": [
        {
          "output_type": "stream",
          "name": "stderr",
          "text": [
            "WARNING:tsfresh.feature_extraction.settings:Dependency not available for matrix_profile, this feature will be disabled!\n",
            "Feature Extraction: 100%|██████████| 1259/1259 [00:47<00:00, 26.59it/s]\n"
          ]
        },
        {
          "output_type": "stream",
          "name": "stdout",
          "text": [
            "            Close__variance_larger_than_standard_deviation  \\\n",
            "2018-01-02                                             0.0   \n",
            "2018-01-03                                             0.0   \n",
            "2018-01-04                                             0.0   \n",
            "2018-01-05                                             0.0   \n",
            "2018-01-08                                             0.0   \n",
            "\n",
            "            Close__has_duplicate_max  Close__has_duplicate_min  \\\n",
            "2018-01-02                       0.0                       0.0   \n",
            "2018-01-03                       0.0                       0.0   \n",
            "2018-01-04                       0.0                       0.0   \n",
            "2018-01-05                       0.0                       0.0   \n",
            "2018-01-08                       0.0                       0.0   \n",
            "\n",
            "            Close__has_duplicate  Close__sum_values  Close__abs_energy  \\\n",
            "2018-01-02                   0.0          63.490002        4030.980354   \n",
            "2018-01-03                   0.0          63.480000        4029.710400   \n",
            "2018-01-04                   0.0          63.439999        4024.633473   \n",
            "2018-01-05                   0.0          63.980000        4093.440400   \n",
            "2018-01-08                   0.0          64.550003        4166.702887   \n",
            "\n",
            "            Close__mean_abs_change  Close__mean_change  \\\n",
            "2018-01-02                     NaN                 NaN   \n",
            "2018-01-03                     NaN                 NaN   \n",
            "2018-01-04                     NaN                 NaN   \n",
            "2018-01-05                     NaN                 NaN   \n",
            "2018-01-08                     NaN                 NaN   \n",
            "\n",
            "            Close__mean_second_derivative_central  Close__median  ...  \\\n",
            "2018-01-02                                    NaN      63.490002  ...   \n",
            "2018-01-03                                    NaN      63.480000  ...   \n",
            "2018-01-04                                    NaN      63.439999  ...   \n",
            "2018-01-05                                    NaN      63.980000  ...   \n",
            "2018-01-08                                    NaN      64.550003  ...   \n",
            "\n",
            "            Close__fourier_entropy__bins_5  Close__fourier_entropy__bins_10  \\\n",
            "2018-01-02                             NaN                              NaN   \n",
            "2018-01-03                             NaN                              NaN   \n",
            "2018-01-04                             NaN                              NaN   \n",
            "2018-01-05                             NaN                              NaN   \n",
            "2018-01-08                             NaN                              NaN   \n",
            "\n",
            "            Close__fourier_entropy__bins_100  \\\n",
            "2018-01-02                               NaN   \n",
            "2018-01-03                               NaN   \n",
            "2018-01-04                               NaN   \n",
            "2018-01-05                               NaN   \n",
            "2018-01-08                               NaN   \n",
            "\n",
            "            Close__permutation_entropy__dimension_3__tau_1  \\\n",
            "2018-01-02                                             NaN   \n",
            "2018-01-03                                             NaN   \n",
            "2018-01-04                                             NaN   \n",
            "2018-01-05                                             NaN   \n",
            "2018-01-08                                             NaN   \n",
            "\n",
            "            Close__permutation_entropy__dimension_4__tau_1  \\\n",
            "2018-01-02                                             NaN   \n",
            "2018-01-03                                             NaN   \n",
            "2018-01-04                                             NaN   \n",
            "2018-01-05                                             NaN   \n",
            "2018-01-08                                             NaN   \n",
            "\n",
            "            Close__permutation_entropy__dimension_5__tau_1  \\\n",
            "2018-01-02                                             NaN   \n",
            "2018-01-03                                             NaN   \n",
            "2018-01-04                                             NaN   \n",
            "2018-01-05                                             NaN   \n",
            "2018-01-08                                             NaN   \n",
            "\n",
            "            Close__permutation_entropy__dimension_6__tau_1  \\\n",
            "2018-01-02                                             NaN   \n",
            "2018-01-03                                             NaN   \n",
            "2018-01-04                                             NaN   \n",
            "2018-01-05                                             NaN   \n",
            "2018-01-08                                             NaN   \n",
            "\n",
            "            Close__permutation_entropy__dimension_7__tau_1  \\\n",
            "2018-01-02                                             NaN   \n",
            "2018-01-03                                             NaN   \n",
            "2018-01-04                                             NaN   \n",
            "2018-01-05                                             NaN   \n",
            "2018-01-08                                             NaN   \n",
            "\n",
            "            Close__query_similarity_count__query_None__threshold_0.0  \\\n",
            "2018-01-02                                                NaN          \n",
            "2018-01-03                                                NaN          \n",
            "2018-01-04                                                NaN          \n",
            "2018-01-05                                                NaN          \n",
            "2018-01-08                                                NaN          \n",
            "\n",
            "            Close__mean_n_absolute_max__number_of_maxima_7  \n",
            "2018-01-02                                             NaN  \n",
            "2018-01-03                                             NaN  \n",
            "2018-01-04                                             NaN  \n",
            "2018-01-05                                             NaN  \n",
            "2018-01-08                                             NaN  \n",
            "\n",
            "[5 rows x 783 columns]\n"
          ]
        }
      ]
    },
    {
      "cell_type": "code",
      "source": [
        "from tsfresh import extract_features\n",
        "from sklearn.model_selection import train_test_split\n",
        "from sklearn.impute import SimpleImputer\n",
        "\n",
        "stock_features = extract_features(stock_data, column_id=\"Date\", column_sort=\"Date\", column_value=\"Close\")\n",
        "\n",
        "imputer = SimpleImputer(strategy='mean')\n",
        "X_train_imputed = imputer.fit_transform(stock_features)\n",
        "\n",
        "y = stock_data['Close']\n",
        "\n",
        "X_train, X_test, y_train, y_test = train_test_split(X_train_imputed, y, test_size=0.2, random_state=42)\n",
        "\n"
      ],
      "metadata": {
        "colab": {
          "base_uri": "https://localhost:8080/"
        },
        "id": "5VyxCKVmNQ8u",
        "outputId": "02ffa8a7-736e-4bb1-9c72-182b987a18f2"
      },
      "execution_count": 8,
      "outputs": [
        {
          "output_type": "stream",
          "name": "stderr",
          "text": [
            "WARNING:tsfresh.feature_extraction.settings:Dependency not available for matrix_profile, this feature will be disabled!\n",
            "Feature Extraction: 100%|██████████| 1259/1259 [00:49<00:00, 25.37it/s]\n"
          ]
        }
      ]
    },
    {
      "cell_type": "code",
      "source": [
        "from sklearn.impute import SimpleImputer\n",
        "from sklearn.linear_model import LinearRegression\n",
        "from sklearn.metrics import mean_squared_error\n",
        "\n",
        "X = stock_features\n",
        "y = stock_data['Close']\n",
        "\n",
        "imputer = SimpleImputer(strategy='mean')\n",
        "\n",
        "\n",
        "X_train_imputed = imputer.fit_transform(X_train)\n",
        "\n",
        "model = LinearRegression()\n",
        "model.fit(X_train_imputed, y_train)\n",
        "\n",
        "X_test_imputed = imputer.transform(X_test)\n",
        "y_pred = model.predict(X_test_imputed)\n",
        "\n",
        "mse = mean_squared_error(y_test, y_pred)\n",
        "print('Mean Squared Error:', mse)\n"
      ],
      "metadata": {
        "colab": {
          "base_uri": "https://localhost:8080/"
        },
        "id": "P8K8-QBvqGt6",
        "outputId": "43cab8d0-b1db-4f71-f1e0-e52c07ce9c91"
      },
      "execution_count": 9,
      "outputs": [
        {
          "output_type": "stream",
          "name": "stdout",
          "text": [
            "Mean Squared Error: 1.6109791844780078e-27\n"
          ]
        }
      ]
    },
    {
      "cell_type": "code",
      "source": [
        "print(\"X_train_imputed shape:\", X_train_imputed.shape)\n",
        "print(\"y_train shape:\", y_train.shape)"
      ],
      "metadata": {
        "colab": {
          "base_uri": "https://localhost:8080/"
        },
        "id": "UL5DwOqAuR4j",
        "outputId": "e01c7597-14a9-4d53-fc4b-2a59f03aa9cb"
      },
      "execution_count": 10,
      "outputs": [
        {
          "output_type": "stream",
          "name": "stdout",
          "text": [
            "X_train_imputed shape: (1007, 218)\n",
            "y_train shape: (1007,)\n"
          ]
        }
      ]
    },
    {
      "cell_type": "code",
      "source": [
        "from sklearn.model_selection import train_test_split\n",
        "from sklearn.metrics import mean_squared_error\n",
        "from sklearn.linear_model import LinearRegression\n",
        "from sklearn.ensemble import RandomForestRegressor, GradientBoostingRegressor\n",
        "\n",
        "# Изберете модели за бенчмаркинг\n",
        "models = {\n",
        "    'Linear Regression': LinearRegression(),\n",
        "    'Random Forest': RandomForestRegressor(random_state=42),\n",
        "    'Gradient Boosting': GradientBoostingRegressor(random_state=42)\n",
        "}\n",
        "\n"
      ],
      "metadata": {
        "id": "Qirz8XZdpEQ-"
      },
      "execution_count": 11,
      "outputs": []
    },
    {
      "cell_type": "code",
      "source": [
        "from sklearn.model_selection import train_test_split\n",
        "from sklearn.metrics import mean_squared_error\n",
        "\n",
        "\n",
        "X_train, X_test, y_train, y_test = train_test_split(X, y, test_size=0.2, random_state=42)\n",
        "\n",
        "\n",
        "for model_name, model_instance in models.items():\n",
        "    print(f\"Training {model_name}...\")\n",
        "\n",
        "    model_instance.fit(X_train_imputed, y_train)\n",
        "\n",
        "    y_pred = model_instance.predict(X_test_imputed)\n",
        "\n",
        "    mse = mean_squared_error(y_test, y_pred)\n",
        "\n",
        "    print(f\"{model_name} - Mean Squared Error: {mse}\")\n",
        "    print(\"=\"*50)\n"
      ],
      "metadata": {
        "colab": {
          "base_uri": "https://localhost:8080/"
        },
        "id": "Y45TCcsgg6Jr",
        "outputId": "a2099d37-cd89-4154-d9b0-8bd71bd8772c"
      },
      "execution_count": 12,
      "outputs": [
        {
          "output_type": "stream",
          "name": "stdout",
          "text": [
            "Training Linear Regression...\n",
            "Linear Regression - Mean Squared Error: 1.6109791844780078e-27\n",
            "==================================================\n",
            "Training Random Forest...\n",
            "Random Forest - Mean Squared Error: 0.00783340426127598\n",
            "==================================================\n",
            "Training Gradient Boosting...\n",
            "Gradient Boosting - Mean Squared Error: 0.05961020137732677\n",
            "==================================================\n"
          ]
        }
      ]
    },
    {
      "cell_type": "code",
      "source": [
        "import numpy as np\n",
        "\n",
        "nan_indices_x = np.where(np.isnan(X_train_imputed))\n",
        "print(\"Indices with NaN values in X_train_imputed:\", nan_indices_x)\n",
        "\n",
        "\n",
        "nan_indices_y = np.where(np.isnan(y_train))\n",
        "print(\"Indices with NaN values in y_train:\", nan_indices_y)\n",
        "\n",
        "# Функцијата np.array_equal се користи за споредба на две низи за еднаквост. Ако низите имаат исти вредности на истите позиции, функцијата враќа True, во спротивно, враќа False.\n",
        "matching_indices = np.array_equal(nan_indices_x, nan_indices_y)\n",
        "print(\"Matching indices between X_train_imputed and y_train:\", matching_indices)"
      ],
      "metadata": {
        "colab": {
          "base_uri": "https://localhost:8080/"
        },
        "id": "7j5NpmR0w52C",
        "outputId": "bd25773c-8f74-4050-e08d-a71f919310bf"
      },
      "execution_count": 13,
      "outputs": [
        {
          "output_type": "stream",
          "name": "stdout",
          "text": [
            "Indices with NaN values in X_train_imputed: (array([], dtype=int64), array([], dtype=int64))\n",
            "Indices with NaN values in y_train: (array([], dtype=int64),)\n",
            "Matching indices between X_train_imputed and y_train: False\n"
          ]
        }
      ]
    }
  ]
}